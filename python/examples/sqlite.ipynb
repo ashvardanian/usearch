{
 "cells": [
  {
   "cell_type": "code",
   "execution_count": null,
   "metadata": {},
   "outputs": [],
   "source": [
    "!pip install numpy requests pillow usearch uform"
   ]
  },
  {
   "cell_type": "code",
   "execution_count": null,
   "metadata": {},
   "outputs": [],
   "source": [
    "import sqlite3\n",
    "import random\n",
    "from io import BytesIO\n",
    "\n",
    "import numpy as np\n",
    "import requests\n",
    "import usearch\n",
    "import uform\n",
    "from PIL import Image"
   ]
  },
  {
   "cell_type": "code",
   "execution_count": 52,
   "metadata": {},
   "outputs": [],
   "source": [
    "coordinates_ny = (40.7128, -74.0060)  # New York\n",
    "coordinates_sf = (37.7749, -122.4194)  # San Francisco\n",
    "coordinates_la = (34.0522, -118.2437)  # Los Angeles\n",
    "coordinates_ldn = (51.5074, -0.1278)  # London\n",
    "coordinates_tk = (35.6895, 139.6917)  # Tokyo\n",
    "coordinates_all = [\n",
    "    coordinates_ny,\n",
    "    coordinates_sf,\n",
    "    coordinates_la,\n",
    "    coordinates_ldn,\n",
    "    coordinates_tk,\n",
    "]\n",
    "\n",
    "image_urls = [\n",
    "    \"https://images.pexels.com/photos/8561771/pexels-photo-8561771.jpeg?cs=srgb&dl=pexels-abdulwahab-alawadhi-8561771.jpg&fm=jpg\",\n",
    "    \"https://techcrunch.com/wp-content/uploads/2013/02/india_bangalore_bus_.jpg\",\n",
    "    \"https://www.carscoops.com/wp-content/uploads/2022/04/Driven-Fiat-500-RED-1-1024x576.jpg\",\n",
    "    \"https://images.pexels.com/photos/9331953/pexels-photo-9331953.jpeg\",\n",
    "    \"https://i.ytimg.com/vi/0SZ6K3BQAAg/maxresdefault.jpg\",\n",
    "    \"https://i.redd.it/59qkkf4p5iv51.jpg\",\n",
    "    \"https://di-uploads-pod35.dealerinspire.com/kellynissanoflynnfield/uploads/2022/05/2022-Nissan-Rogue-Blue.jpg\",\n",
    "]\n"
   ]
  },
  {
   "cell_type": "code",
   "execution_count": null,
   "metadata": {},
   "outputs": [],
   "source": [
    "num_entries = 10000\n",
    "model = uform.get_model(\"unum-cloud/uform-vl-english\")"
   ]
  },
  {
   "cell_type": "code",
   "execution_count": 53,
   "metadata": {},
   "outputs": [
    {
     "data": {
      "text/plain": [
       "[<PIL.JpegImagePlugin.JpegImageFile image mode=RGB size=4032x2268>,\n",
       " <PIL.JpegImagePlugin.JpegImageFile image mode=RGB size=2560x1920>,\n",
       " <PIL.JpegImagePlugin.JpegImageFile image mode=RGB size=1024x576>,\n",
       " <PIL.JpegImagePlugin.JpegImageFile image mode=RGB size=3895x2344>,\n",
       " <PIL.JpegImagePlugin.JpegImageFile image mode=RGB size=1280x720>,\n",
       " <PIL.JpegImagePlugin.JpegImageFile image mode=RGB size=631x920>,\n",
       " <PIL.JpegImagePlugin.JpegImageFile image mode=RGB size=1319x877>]"
      ]
     },
     "execution_count": 53,
     "metadata": {},
     "output_type": "execute_result"
    }
   ],
   "source": [
    "# Download the images, load them into Pillow, and encode with UForm\n",
    "headers = {'User-Agent': 'Mozilla/5.0 (Windows NT 10.0; Win64; x64) AppleWebKit/537.36 (KHTML, like Gecko) Chrome/58.0.3029.110 Safari/537.3'}\n",
    "image_contents = [requests.get(url, headers=headers, allow_redirects=True).content for url in image_urls]\n",
    "image_objects = [Image.open(BytesIO(x)) for x in image_contents]\n",
    "image_objects"
   ]
  },
  {
   "cell_type": "code",
   "execution_count": 55,
   "metadata": {},
   "outputs": [
    {
     "data": {
      "text/plain": [
       "torch.Size([7, 256])"
      ]
     },
     "execution_count": 55,
     "metadata": {},
     "output_type": "execute_result"
    }
   ],
   "source": [
    "image_embeddings = model.preprocess_image(image_objects)\n",
    "image_embeddings = model.encode_image(image_embeddings)\n",
    "image_embeddings.shape"
   ]
  },
  {
   "cell_type": "code",
   "execution_count": null,
   "metadata": {},
   "outputs": [],
   "source": [
    "conn = sqlite3.connect(\":memory:\")\n",
    "conn.enable_load_extension(True)\n",
    "conn.load_extension(usearch.sqlite)\n",
    "\n",
    "\n",
    "# Create a table that contains: latitude, longitude, license_plate, image_url, image_embedding_f32.\n",
    "# All of those are random generated, except for embeddings, which match the URL.\n",
    "cursor = conn.cursor()\n",
    "cursor.execute(\n",
    "    f\"\"\"\n",
    "    CREATE TABLE IF NOT EXISTS vector_table (\n",
    "        id INTEGER PRIMARY KEY,\n",
    "        latitude FLOAT,\n",
    "        longitude FLOAT,\n",
    "        license_plate TEXT,\n",
    "        image_url TEXT,\n",
    "        image_embedding_f32 BLOB\n",
    "    )\n",
    "\"\"\"\n",
    ")"
   ]
  },
  {
   "cell_type": "code",
   "execution_count": 59,
   "metadata": {},
   "outputs": [],
   "source": [
    "# Generate and insert random entries\n",
    "for i in range(num_entries):\n",
    "    # Generate a random 256-dimensional vector\n",
    "    image_idx: int = np.random.randint(0, len(image_urls) - 1)\n",
    "    image_url: str = image_urls[image_idx]\n",
    "    image_embedding: np.ndarray = image_embeddings[image_idx]\n",
    "\n",
    "    # The license plate will have \"XXX0000\" format\n",
    "    license_plate = \"\".join(\n",
    "        [random.choice(\"ABCDEFGHIJKLMNOPQRSTUVWXYZ\") for i in range(3)]\n",
    "        + [random.choice(\"0123456789\") for i in range(4)]\n",
    "    )\n",
    "\n",
    "    # Pick any city\n",
    "    lat, lon = random.choice(coordinates_all)\n",
    "    lat += random.uniform(-0.01, 0.01)\n",
    "    lon += random.uniform(-0.01, 0.01)\n",
    "\n",
    "    # Insert the vector into the database as scalars\n",
    "    cursor.execute(\n",
    "        f\"\"\"\n",
    "        INSERT INTO vector_table (latitude, longitude, license_plate, image_url, image_embedding_f32) VALUES (?, ?, ?, ?, ?)\n",
    "    \"\"\",\n",
    "        (\n",
    "            [\n",
    "                lat,\n",
    "                lon,\n",
    "                license_plate,\n",
    "                image_url,\n",
    "                image_embedding.detach().numpy().astype(np.float32).tobytes(),\n",
    "            ]\n",
    "        ),\n",
    "    )\n",
    "\n",
    "# Commit changes\n",
    "conn.commit()"
   ]
  },
  {
   "cell_type": "code",
   "execution_count": 61,
   "metadata": {},
   "outputs": [
    {
     "data": {
      "text/plain": [
       "(1, 256)"
      ]
     },
     "execution_count": 61,
     "metadata": {},
     "output_type": "execute_result"
    }
   ],
   "source": [
    "text_embedding = model.encode_text(model.preprocess_text([\"Red Pickup\"])).detach().numpy().astype(np.float32)\n",
    "text_embedding.shape"
   ]
  },
  {
   "cell_type": "code",
   "execution_count": null,
   "metadata": {},
   "outputs": [],
   "source": [
    "# We then will filter points:\n",
    "#   - within specific `distance_haversine_meters` radius from New York,\n",
    "#   - with at most 2 mistakes in the recognized `license_plate`,\n",
    "#   - sorted by the semantic similarity to the query \"red pickup\"."
   ]
  },
  {
   "cell_type": "code",
   "execution_count": 66,
   "metadata": {},
   "outputs": [
    {
     "name": "stdout",
     "output_type": "stream",
     "text": [
      "(5, 40.71923840589961, -73.99628685669865, 'BWN3400', 'https://images.pexels.com/photos/8561771/pexels-photo-8561771.jpeg?cs=srgb&dl=pexels-abdulwahab-alawadhi-8561771.jpg&fm=jpg', 1087.51708984375, 5, 0.5990111827850342)\n",
      "(82, 40.70742393952692, -74.00781552033413, 'GUS0904', 'https://techcrunch.com/wp-content/uploads/2013/02/india_bangalore_bus_.jpg', 617.0670776367188, 5, 0.6020922660827637)\n",
      "(154, 40.72229202662463, -73.99961336422612, 'KRQ0660', 'https://techcrunch.com/wp-content/uploads/2013/02/india_bangalore_bus_.jpg', 1184.791259765625, 5, 0.6020922660827637)\n",
      "(243, 40.719649004490115, -74.01170799133224, 'UCC0035', 'https://techcrunch.com/wp-content/uploads/2013/02/india_bangalore_bus_.jpg', 900.7923583984375, 5, 0.6020922660827637)\n",
      "(11, 40.71692294865666, -74.0146965402483, 'IXV0116', 'https://i.ytimg.com/vi/0SZ6K3BQAAg/maxresdefault.jpg', 864.529296875, 5, 0.6025271415710449)\n",
      "(91, 40.70372449088882, -74.01471153435676, 'NWJ6040', 'https://i.ytimg.com/vi/0SZ6K3BQAAg/maxresdefault.jpg', 1248.0311279296875, 5, 0.6025271415710449)\n",
      "(303, 40.716382209319164, -73.99858135121191, 'CEV2800', 'https://i.ytimg.com/vi/0SZ6K3BQAAg/maxresdefault.jpg', 741.3592529296875, 5, 0.6025271415710449)\n",
      "(945, 40.72274597678351, -74.00554714177804, 'ZJE0330', 'https://i.ytimg.com/vi/0SZ6K3BQAAg/maxresdefault.jpg', 1106.60205078125, 5, 0.6025271415710449)\n",
      "(471, 40.72062845501931, -73.99814724296083, 'XAN7060', 'https://images.pexels.com/photos/9331953/pexels-photo-9331953.jpeg', 1093.5086669921875, 4, 0.6157799959182739)\n",
      "(277, 40.71813623482286, -74.01485926706867, 'JXV2012', 'https://images.pexels.com/photos/9331953/pexels-photo-9331953.jpeg', 953.727294921875, 5, 0.6157799959182739)\n",
      "(761, 40.71639234219216, -74.0087762717391, 'ZXP1047', 'https://images.pexels.com/photos/9331953/pexels-photo-9331953.jpeg', 462.9390563964844, 5, 0.6157799959182739)\n",
      "(263, 40.714323956035976, -73.99632237865448, 'TQL6010', 'https://www.carscoops.com/wp-content/uploads/2022/04/Driven-Fiat-500-RED-1-1024x576.jpg', 833.081787109375, 5, 0.624717116355896)\n",
      "(786, 40.71466338705902, -74.01135762424109, 'LFD0076', 'https://i.redd.it/59qkkf4p5iv51.jpg', 496.8270568847656, 5, 0.6410787105560303)\n",
      "(866, 40.70651717505808, -74.01445304704953, 'URD3050', 'https://i.redd.it/59qkkf4p5iv51.jpg', 997.85693359375, 5, 0.6410787105560303)\n"
     ]
    }
   ],
   "source": [
    "ny_lat, ny_lon = coordinates_ny\n",
    "max_location_distance = 10000  # Example: 10 kilometers\n",
    "max_plate_distance = 6\n",
    "\n",
    "# Text embedding for the query \"red pickup\"\n",
    "text_embedding = model.encode_text(model.preprocess_text([\"Red Pickup\"])).detach().numpy().astype(np.float32)\n",
    "\n",
    "# Query to select entries based on the conditions\n",
    "query = \"\"\"\n",
    "SELECT \n",
    "    id,\n",
    "    latitude,\n",
    "    longitude,\n",
    "    license_plate,\n",
    "    image_url,\n",
    "    distance_haversine_meters(latitude, longitude, ?, ?) AS location_distance,\n",
    "    distance_levenshtein(license_plate, 'XXX0000') AS plate_distance,\n",
    "    distance_cosine_f32(image_embedding_f32, ?) AS semantic_distance\n",
    "FROM \n",
    "    vector_table\n",
    "WHERE \n",
    "    location_distance < ? AND\n",
    "    plate_distance < ?\n",
    "ORDER BY \n",
    "    semantic_distance ASC, \n",
    "    plate_distance ASC;\n",
    "\"\"\"\n",
    "\n",
    "cursor.execute(query, [ny_lat, ny_lon, text_embedding.tobytes(), max_location_distance, max_plate_distance])\n",
    "\n",
    "# Fetch the results\n",
    "results = cursor.fetchall()\n",
    "\n",
    "# Process the results as needed\n",
    "for row in results:\n",
    "    print(row)  # Each row will contain the id, lat, lon, license_plate, image_url, and distances\n"
   ]
  },
  {
   "cell_type": "code",
   "execution_count": null,
   "metadata": {},
   "outputs": [],
   "source": []
  }
 ],
 "metadata": {
  "kernelspec": {
   "display_name": "base",
   "language": "python",
   "name": "python3"
  },
  "language_info": {
   "codemirror_mode": {
    "name": "ipython",
    "version": 3
   },
   "file_extension": ".py",
   "mimetype": "text/x-python",
   "name": "python",
   "nbconvert_exporter": "python",
   "pygments_lexer": "ipython3",
   "version": "3.10.11"
  }
 },
 "nbformat": 4,
 "nbformat_minor": 2
}
